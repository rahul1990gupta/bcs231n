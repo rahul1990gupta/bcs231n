{
 "cells": [
  {
   "cell_type": "markdown",
   "metadata": {},
   "source": [
    "# Softmax exercise\n",
    "\n",
    "*Complete and hand in this completed worksheet (including its outputs and any supporting code outside of the worksheet) with your assignment submission. For more details see the [assignments page](http://vision.stanford.edu/teaching/cs231n/assignments.html) on the course website.*\n",
    "\n",
    "This exercise is analogous to the SVM exercise. You will:\n",
    "\n",
    "- implement a fully-vectorized **loss function** for the Softmax classifier\n",
    "- implement the fully-vectorized expression for its **analytic gradient**\n",
    "- **check your implementation** with numerical gradient\n",
    "- use a validation set to **tune the learning rate and regularization** strength\n",
    "- **optimize** the loss function with **SGD**\n",
    "- **visualize** the final learned weights\n"
   ]
  },
  {
   "cell_type": "code",
   "execution_count": 1,
   "metadata": {
    "collapsed": false
   },
   "outputs": [],
   "source": [
    "import random\n",
    "import numpy as np\n",
    "from cs231n.data_utils import load_CIFAR10\n",
    "import matplotlib.pyplot as plt\n",
    "\n",
    "from __future__ import print_function\n",
    "\n",
    "%matplotlib inline\n",
    "plt.rcParams['figure.figsize'] = (10.0, 8.0) # set default size of plots\n",
    "plt.rcParams['image.interpolation'] = 'nearest'\n",
    "plt.rcParams['image.cmap'] = 'gray'\n",
    "\n",
    "# for auto-reloading extenrnal modules\n",
    "# see http://stackoverflow.com/questions/1907993/autoreload-of-modules-in-ipython\n",
    "%load_ext autoreload\n",
    "%autoreload 2"
   ]
  },
  {
   "cell_type": "code",
   "execution_count": 2,
   "metadata": {
    "collapsed": false
   },
   "outputs": [
    {
     "name": "stdout",
     "output_type": "stream",
     "text": [
      "Train data shape:  (49000, 3073)\n",
      "Train labels shape:  (49000,)\n",
      "Validation data shape:  (1000, 3073)\n",
      "Validation labels shape:  (1000,)\n",
      "Test data shape:  (1000, 3073)\n",
      "Test labels shape:  (1000,)\n",
      "dev data shape:  (500, 3073)\n",
      "dev labels shape:  (500,)\n"
     ]
    }
   ],
   "source": [
    "def get_CIFAR10_data(num_training=49000, num_validation=1000, num_test=1000, num_dev=500):\n",
    "    \"\"\"\n",
    "    Load the CIFAR-10 dataset from disk and perform preprocessing to prepare\n",
    "    it for the linear classifier. These are the same steps as we used for the\n",
    "    SVM, but condensed to a single function.  \n",
    "    \"\"\"\n",
    "    # Load the raw CIFAR-10 data\n",
    "    cifar10_dir = 'cs231n/datasets/cifar-10-batches-py'\n",
    "    X_train, y_train, X_test, y_test = load_CIFAR10(cifar10_dir)\n",
    "    \n",
    "    # subsample the data\n",
    "    mask = list(range(num_training, num_training + num_validation))\n",
    "    X_val = X_train[mask]\n",
    "    y_val = y_train[mask]\n",
    "    mask = list(range(num_training))\n",
    "    X_train = X_train[mask]\n",
    "    y_train = y_train[mask]\n",
    "    mask = list(range(num_test))\n",
    "    X_test = X_test[mask]\n",
    "    y_test = y_test[mask]\n",
    "    mask = np.random.choice(num_training, num_dev, replace=False)\n",
    "    X_dev = X_train[mask]\n",
    "    y_dev = y_train[mask]\n",
    "    \n",
    "    # Preprocessing: reshape the image data into rows\n",
    "    X_train = np.reshape(X_train, (X_train.shape[0], -1))\n",
    "    X_val = np.reshape(X_val, (X_val.shape[0], -1))\n",
    "    X_test = np.reshape(X_test, (X_test.shape[0], -1))\n",
    "    X_dev = np.reshape(X_dev, (X_dev.shape[0], -1))\n",
    "    \n",
    "    # Normalize the data: subtract the mean image\n",
    "    mean_image = np.mean(X_train, axis = 0)\n",
    "    X_train -= mean_image\n",
    "    X_val -= mean_image\n",
    "    X_test -= mean_image\n",
    "    X_dev -= mean_image\n",
    "    \n",
    "    # add bias dimension and transform into columns\n",
    "    X_train = np.hstack([X_train, np.ones((X_train.shape[0], 1))])\n",
    "    X_val = np.hstack([X_val, np.ones((X_val.shape[0], 1))])\n",
    "    X_test = np.hstack([X_test, np.ones((X_test.shape[0], 1))])\n",
    "    X_dev = np.hstack([X_dev, np.ones((X_dev.shape[0], 1))])\n",
    "    \n",
    "    return X_train, y_train, X_val, y_val, X_test, y_test, X_dev, y_dev\n",
    "\n",
    "\n",
    "# Invoke the above function to get our data.\n",
    "X_train, y_train, X_val, y_val, X_test, y_test, X_dev, y_dev = get_CIFAR10_data()\n",
    "print('Train data shape: ', X_train.shape)\n",
    "print('Train labels shape: ', y_train.shape)\n",
    "print('Validation data shape: ', X_val.shape)\n",
    "print('Validation labels shape: ', y_val.shape)\n",
    "print('Test data shape: ', X_test.shape)\n",
    "print('Test labels shape: ', y_test.shape)\n",
    "print('dev data shape: ', X_dev.shape)\n",
    "print('dev labels shape: ', y_dev.shape)"
   ]
  },
  {
   "cell_type": "markdown",
   "metadata": {},
   "source": [
    "## Softmax Classifier\n",
    "\n",
    "Your code for this section will all be written inside **cs231n/classifiers/softmax.py**. \n"
   ]
  },
  {
   "cell_type": "code",
   "execution_count": 19,
   "metadata": {
    "collapsed": false
   },
   "outputs": [
    {
     "name": "stdout",
     "output_type": "stream",
     "text": [
      "loss: 2.339283\n",
      "sanity check: 2.302585\n"
     ]
    }
   ],
   "source": [
    "# First implement the naive softmax loss function with nested loops.\n",
    "# Open the file cs231n/classifiers/softmax.py and implement the\n",
    "# softmax_loss_naive function.\n",
    "\n",
    "from cs231n.classifiers.softmax import softmax_loss_naive\n",
    "import time\n",
    "\n",
    "# Generate a random softmax weight matrix and use it to compute the loss.\n",
    "W = np.random.randn(3073, 10) * 0.0001\n",
    "loss, grad = softmax_loss_naive(W, X_dev, y_dev, 0.0)\n",
    "\n",
    "# As a rough sanity check, our loss should be something close to -log(0.1).\n",
    "print('loss: %f' % loss)\n",
    "print('sanity check: %f' % (-np.log(0.1)))"
   ]
  },
  {
   "cell_type": "markdown",
   "metadata": {},
   "source": [
    "## Inline Question 1:\n",
    "Why do we expect our loss to be close to -log(0.1)? Explain briefly.**\n",
    "\n",
    "**Your answer:** *Because it's a random classifier. Since there are 10 classes and a random classifier will correctly classify with 10% probability.*\n"
   ]
  },
  {
   "cell_type": "code",
   "execution_count": 20,
   "metadata": {
    "collapsed": false
   },
   "outputs": [
    {
     "name": "stdout",
     "output_type": "stream",
     "text": [
      "numerical: -2.711457 analytic: -2.711456, relative error: 1.378904e-08\n",
      "numerical: 0.499281 analytic: 0.499281, relative error: 6.386435e-08\n",
      "numerical: 1.700688 analytic: 1.700688, relative error: 2.252673e-08\n",
      "numerical: 0.142741 analytic: 0.142741, relative error: 1.846926e-08\n",
      "numerical: 0.074467 analytic: 0.074467, relative error: 8.832638e-08\n",
      "numerical: -1.280084 analytic: -1.280084, relative error: 1.226021e-08\n",
      "numerical: 1.174501 analytic: 1.174500, relative error: 1.471364e-08\n",
      "numerical: -0.663582 analytic: -0.663582, relative error: 5.688584e-10\n",
      "numerical: 0.549119 analytic: 0.549119, relative error: 2.846142e-08\n",
      "numerical: 2.033137 analytic: 2.033137, relative error: 3.581406e-08\n",
      "numerical: 3.344238 analytic: 3.344238, relative error: 9.808289e-10\n",
      "numerical: -0.702850 analytic: -0.702850, relative error: 9.306586e-09\n",
      "numerical: -0.114013 analytic: -0.114013, relative error: 4.003082e-07\n",
      "numerical: 0.153676 analytic: 0.153676, relative error: 3.841183e-07\n",
      "numerical: 1.383883 analytic: 1.383883, relative error: 9.866454e-09\n",
      "numerical: 0.308772 analytic: 0.308772, relative error: 3.430377e-08\n",
      "numerical: 2.630956 analytic: 2.630956, relative error: 8.988423e-09\n",
      "numerical: -4.731367 analytic: -4.731367, relative error: 3.080379e-09\n",
      "numerical: 1.834523 analytic: 1.834523, relative error: 5.437608e-08\n",
      "numerical: 1.457681 analytic: 1.457681, relative error: 1.494485e-08\n"
     ]
    }
   ],
   "source": [
    "# Complete the implementation of softmax_loss_naive and implement a (naive)\n",
    "# version of the gradient that uses nested loops.\n",
    "loss, grad = softmax_loss_naive(W, X_dev, y_dev, 0.0)\n",
    "\n",
    "# As we did for the SVM, use numeric gradient checking as a debugging tool.\n",
    "# The numeric gradient should be close to the analytic gradient.\n",
    "from cs231n.gradient_check import grad_check_sparse\n",
    "f = lambda w: softmax_loss_naive(w, X_dev, y_dev, 0.0)[0]\n",
    "grad_numerical = grad_check_sparse(f, W, grad, 10)\n",
    "\n",
    "# similar to SVM case, do another gradient check with regularization\n",
    "loss, grad = softmax_loss_naive(W, X_dev, y_dev, 5e1)\n",
    "f = lambda w: softmax_loss_naive(w, X_dev, y_dev, 5e1)[0]\n",
    "grad_numerical = grad_check_sparse(f, W, grad, 10)"
   ]
  },
  {
   "cell_type": "code",
   "execution_count": 24,
   "metadata": {
    "collapsed": false
   },
   "outputs": [
    {
     "name": "stdout",
     "output_type": "stream",
     "text": [
      "naive loss: 2.339283e+00 computed in 0.129017s\n",
      "vectorized loss: 2.339283e+00 computed in 0.010606s\n",
      "Loss difference: 0.000000\n",
      "Gradient difference: 0.000000\n"
     ]
    }
   ],
   "source": [
    "# Now that we have a naive implementation of the softmax loss function and its gradient,\n",
    "# implement a vectorized version in softmax_loss_vectorized.\n",
    "# The two versions should compute the same results, but the vectorized version should be\n",
    "# much faster.\n",
    "tic = time.time()\n",
    "loss_naive, grad_naive = softmax_loss_naive(W, X_dev, y_dev, 0.000005)\n",
    "toc = time.time()\n",
    "print('naive loss: %e computed in %fs' % (loss_naive, toc - tic))\n",
    "\n",
    "from cs231n.classifiers.softmax import softmax_loss_vectorized\n",
    "tic = time.time()\n",
    "loss_vectorized, grad_vectorized = softmax_loss_vectorized(W, X_dev, y_dev, 0.000005)\n",
    "toc = time.time()\n",
    "print('vectorized loss: %e computed in %fs' % (loss_vectorized, toc - tic))\n",
    "\n",
    "# As we did for the SVM, we use the Frobenius norm to compare the two versions\n",
    "# of the gradient.\n",
    "grad_difference = np.linalg.norm(grad_naive - grad_vectorized, ord='fro')\n",
    "print('Loss difference: %f' % np.abs(loss_naive - loss_vectorized))\n",
    "print('Gradient difference: %f' % grad_difference)"
   ]
  },
  {
   "cell_type": "code",
   "execution_count": 26,
   "metadata": {
    "collapsed": false
   },
   "outputs": [
    {
     "name": "stdout",
     "output_type": "stream",
     "text": [
      "iteration 0 / 1500: loss 37.026239\n",
      "iteration 100 / 1500: loss 5.972171\n",
      "iteration 200 / 1500: loss 2.290215\n",
      "iteration 300 / 1500: loss 1.933894\n",
      "iteration 400 / 1500: loss 1.864538\n",
      "iteration 500 / 1500: loss 1.879764\n",
      "iteration 600 / 1500: loss 2.087135\n",
      "iteration 700 / 1500: loss 2.089950\n",
      "iteration 800 / 1500: loss 1.919125\n",
      "iteration 900 / 1500: loss 1.826578\n",
      "iteration 1000 / 1500: loss 2.092291\n",
      "iteration 1100 / 1500: loss 1.961465\n",
      "iteration 1200 / 1500: loss 1.801198\n",
      "iteration 1300 / 1500: loss 2.069641\n",
      "iteration 1400 / 1500: loss 1.960803\n",
      "iteration 0 / 1500: loss 765.967498\n",
      "iteration 100 / 1500: loss 2.400515\n",
      "iteration 200 / 1500: loss 2.404887\n",
      "iteration 300 / 1500: loss 2.382598\n",
      "iteration 400 / 1500: loss 2.577466\n",
      "iteration 500 / 1500: loss 2.439970\n",
      "iteration 600 / 1500: loss 3.102152\n",
      "iteration 700 / 1500: loss 2.993507\n",
      "iteration 800 / 1500: loss 2.248262\n",
      "iteration 900 / 1500: loss 2.465928\n",
      "iteration 1000 / 1500: loss 2.241201\n",
      "iteration 1100 / 1500: loss 2.359386\n",
      "iteration 1200 / 1500: loss 2.571714\n",
      "iteration 1300 / 1500: loss 2.675238\n",
      "iteration 1400 / 1500: loss 2.426348\n",
      "iteration 0 / 1500: loss 1525.213020\n",
      "iteration 100 / 1500: loss 3.456369\n",
      "iteration 200 / 1500: loss 3.592648\n",
      "iteration 300 / 1500: loss 2.973572\n",
      "iteration 400 / 1500: loss 4.084492\n",
      "iteration 500 / 1500: loss 3.959729\n",
      "iteration 600 / 1500: loss 4.814919\n",
      "iteration 700 / 1500: loss 3.836402\n",
      "iteration 800 / 1500: loss 2.843925\n",
      "iteration 900 / 1500: loss 2.762622\n",
      "iteration 1000 / 1500: loss 4.012991\n",
      "iteration 1100 / 1500: loss 3.247986\n",
      "iteration 1200 / 1500: loss 3.392535\n",
      "iteration 1300 / 1500: loss 4.217185\n",
      "iteration 1400 / 1500: loss 3.209385\n",
      "iteration 0 / 1500: loss 36.643778\n",
      "iteration 100 / 1500: loss 33.695385\n",
      "iteration 200 / 1500: loss 31.995589\n",
      "iteration 300 / 1500: loss 30.459135\n",
      "iteration 400 / 1500: loss 29.400728\n",
      "iteration 500 / 1500: loss 28.152498\n",
      "iteration 600 / 1500: loss 27.065654\n",
      "iteration 700 / 1500: loss 26.150816\n",
      "iteration 800 / 1500: loss 24.746647\n",
      "iteration 900 / 1500: loss 23.860600\n",
      "iteration 1000 / 1500: loss 22.896428\n",
      "iteration 1100 / 1500: loss 22.198605\n",
      "iteration 1200 / 1500: loss 21.237286\n",
      "iteration 1300 / 1500: loss 20.307297\n",
      "iteration 1400 / 1500: loss 19.718855\n",
      "iteration 0 / 1500: loss 769.296404\n",
      "iteration 100 / 1500: loss 282.221971\n",
      "iteration 200 / 1500: loss 104.500143\n",
      "iteration 300 / 1500: loss 39.584606\n",
      "iteration 400 / 1500: loss 15.808951\n",
      "iteration 500 / 1500: loss 7.108806\n",
      "iteration 600 / 1500: loss 3.964666\n",
      "iteration 700 / 1500: loss 2.750583\n",
      "iteration 800 / 1500: loss 2.340610\n",
      "iteration 900 / 1500: loss 2.184483\n",
      "iteration 1000 / 1500: loss 2.093044\n",
      "iteration 1100 / 1500: loss 2.090062\n",
      "iteration 1200 / 1500: loss 2.061139\n",
      "iteration 1300 / 1500: loss 2.033618\n",
      "iteration 1400 / 1500: loss 2.019729\n",
      "iteration 0 / 1500: loss 1548.628992\n",
      "iteration 100 / 1500: loss 208.713030\n",
      "iteration 200 / 1500: loss 29.682393\n",
      "iteration 300 / 1500: loss 5.837030\n",
      "iteration 400 / 1500: loss 2.637671\n",
      "iteration 500 / 1500: loss 2.185459\n",
      "iteration 600 / 1500: loss 2.167637\n",
      "iteration 700 / 1500: loss 2.119912\n",
      "iteration 800 / 1500: loss 2.111120\n",
      "iteration 900 / 1500: loss 2.208620\n",
      "iteration 1000 / 1500: loss 2.137508\n",
      "iteration 1100 / 1500: loss 2.135539\n",
      "iteration 1200 / 1500: loss 2.126507\n",
      "iteration 1300 / 1500: loss 2.166721\n",
      "iteration 1400 / 1500: loss 2.170068\n",
      "iteration 0 / 1500: loss 36.631196\n",
      "iteration 100 / 1500: loss 28.093018\n",
      "iteration 200 / 1500: loss 23.074229\n",
      "iteration 300 / 1500: loss 18.971843\n",
      "iteration 400 / 1500: loss 15.550396\n",
      "iteration 500 / 1500: loss 13.267168\n",
      "iteration 600 / 1500: loss 10.987813\n",
      "iteration 700 / 1500: loss 9.255770\n",
      "iteration 800 / 1500: loss 7.999631\n",
      "iteration 900 / 1500: loss 6.782824\n",
      "iteration 1000 / 1500: loss 5.915609\n",
      "iteration 1100 / 1500: loss 5.200583\n",
      "iteration 1200 / 1500: loss 4.571346\n",
      "iteration 1300 / 1500: loss 4.085386\n",
      "iteration 1400 / 1500: loss 3.688506\n",
      "iteration 0 / 1500: loss 772.002240\n",
      "iteration 100 / 1500: loss 6.891738\n",
      "iteration 200 / 1500: loss 2.180575\n",
      "iteration 300 / 1500: loss 2.058586\n",
      "iteration 400 / 1500: loss 2.097293\n",
      "iteration 500 / 1500: loss 2.087843\n",
      "iteration 600 / 1500: loss 2.057644\n",
      "iteration 700 / 1500: loss 2.156801\n",
      "iteration 800 / 1500: loss 2.046076\n",
      "iteration 900 / 1500: loss 2.086162\n",
      "iteration 1000 / 1500: loss 2.085515\n",
      "iteration 1100 / 1500: loss 2.099258\n",
      "iteration 1200 / 1500: loss 2.101244\n",
      "iteration 1300 / 1500: loss 2.138095\n",
      "iteration 1400 / 1500: loss 2.051729\n",
      "iteration 0 / 1500: loss 1536.115777\n",
      "iteration 100 / 1500: loss 2.184413\n",
      "iteration 200 / 1500: loss 2.134691\n",
      "iteration 300 / 1500: loss 2.148602\n",
      "iteration 400 / 1500: loss 2.169638\n",
      "iteration 500 / 1500: loss 2.124173\n",
      "iteration 600 / 1500: loss 2.128369\n",
      "iteration 700 / 1500: loss 2.136320\n",
      "iteration 800 / 1500: loss 2.150777\n",
      "iteration 900 / 1500: loss 2.121623\n",
      "iteration 1000 / 1500: loss 2.145394\n",
      "iteration 1100 / 1500: loss 2.121273\n",
      "iteration 1200 / 1500: loss 2.163069\n",
      "iteration 1300 / 1500: loss 2.125183\n",
      "iteration 1400 / 1500: loss 2.149066\n",
      "lr 1.000000e-07 reg 1.000000e+03 train accuracy: 0.257367 val accuracy: 0.257000\n",
      "lr 1.000000e-07 reg 2.500000e+04 train accuracy: 0.329224 val accuracy: 0.347000\n",
      "lr 1.000000e-07 reg 5.000000e+04 train accuracy: 0.312510 val accuracy: 0.327000\n",
      "lr 5.000000e-07 reg 1.000000e+03 train accuracy: 0.385102 val accuracy: 0.389000\n",
      "lr 5.000000e-07 reg 2.500000e+04 train accuracy: 0.313265 val accuracy: 0.332000\n",
      "lr 5.000000e-07 reg 5.000000e+04 train accuracy: 0.292510 val accuracy: 0.301000\n",
      "lr 5.000000e-06 reg 1.000000e+03 train accuracy: 0.361918 val accuracy: 0.361000\n",
      "lr 5.000000e-06 reg 2.500000e+04 train accuracy: 0.223714 val accuracy: 0.220000\n",
      "lr 5.000000e-06 reg 5.000000e+04 train accuracy: 0.117837 val accuracy: 0.131000\n",
      "best validation accuracy achieved during cross-validation: 0.389000\n"
     ]
    }
   ],
   "source": [
    "# Use the validation set to tune hyperparameters (regularization strength and\n",
    "# learning rate). You should experiment with different ranges for the learning\n",
    "# rates and regularization strengths; if you are careful you should be able to\n",
    "# get a classification accuracy of over 0.35 on the validation set.\n",
    "from cs231n.classifiers import Softmax\n",
    "results = {}\n",
    "best_val = -1\n",
    "best_softmax = None\n",
    "learning_rates = [5e-6, 1e-7, 5e-7]\n",
    "regularization_strengths = [1e3, 2.5e4, 5e4]\n",
    "\n",
    "################################################################################\n",
    "# TODO:                                                                        #\n",
    "# Use the validation set to set the learning rate and regularization strength. #\n",
    "# This should be identical to the validation that you did for the SVM; save    #\n",
    "# the best trained softmax classifer in best_softmax.                          #\n",
    "################################################################################\n",
    "for lr in learning_rates:\n",
    "    for reg in regularization_strengths:\n",
    "        softmax = Softmax()\n",
    "        loss_hist = softmax.train(X_train, y_train, learning_rate=lr, reg=reg,\n",
    "                      num_iters=1500, verbose=True)\n",
    "        y_train_pred = softmax.predict(X_train)\n",
    "        y_val_pred = softmax.predict(X_val)\n",
    "        training_accuracy = np.mean(y_train == y_train_pred)\n",
    "        validation_accuracy = np.mean(y_val == y_val_pred)\n",
    "        #append in results\n",
    "        results[(lr,reg)] = (training_accuracy, validation_accuracy)\n",
    "        if validation_accuracy > best_val:\n",
    "            best_val = validation_accuracy\n",
    "            best_softmax = softmax\n",
    "################################################################################\n",
    "#                              END OF YOUR CODE                                #\n",
    "################################################################################\n",
    "    \n",
    "# Print out results.\n",
    "for lr, reg in sorted(results):\n",
    "    train_accuracy, val_accuracy = results[(lr, reg)]\n",
    "    print('lr %e reg %e train accuracy: %f val accuracy: %f' % (\n",
    "                lr, reg, train_accuracy, val_accuracy))\n",
    "    \n",
    "print('best validation accuracy achieved during cross-validation: %f' % best_val)"
   ]
  },
  {
   "cell_type": "code",
   "execution_count": 27,
   "metadata": {
    "collapsed": false
   },
   "outputs": [
    {
     "name": "stdout",
     "output_type": "stream",
     "text": [
      "softmax on raw pixels final test set accuracy: 0.365000\n"
     ]
    }
   ],
   "source": [
    "# evaluate on test set\n",
    "# Evaluate the best softmax on test set\n",
    "y_test_pred = best_softmax.predict(X_test)\n",
    "test_accuracy = np.mean(y_test == y_test_pred)\n",
    "print('softmax on raw pixels final test set accuracy: %f' % (test_accuracy, ))"
   ]
  },
  {
   "cell_type": "code",
   "execution_count": 28,
   "metadata": {
    "collapsed": false
   },
   "outputs": [
    {
     "data": {
      "image/png": "[encoded data removed]",
      "text/plain": [
       "<matplotlib.figure.Figure at 0x7f442d1d70d0>"
      ]
     },
     "metadata": {},
     "output_type": "display_data"
    }
   ],
   "source": [
    "# Visualize the learned weights for each class\n",
    "w = best_softmax.W[:-1,:] # strip out the bias\n",
    "w = w.reshape(32, 32, 3, 10)\n",
    "\n",
    "w_min, w_max = np.min(w), np.max(w)\n",
    "\n",
    "classes = ['plane', 'car', 'bird', 'cat', 'deer', 'dog', 'frog', 'horse', 'ship', 'truck']\n",
    "for i in range(10):\n",
    "    plt.subplot(2, 5, i + 1)\n",
    "    \n",
    "    # Rescale the weights to be between 0 and 255\n",
    "    wimg = 255.0 * (w[:, :, :, i].squeeze() - w_min) / (w_max - w_min)\n",
    "    plt.imshow(wimg.astype('uint8'))\n",
    "    plt.axis('off')\n",
    "    plt.title(classes[i])"
   ]
  }
 ],
 "metadata": {
  "kernelspec": {
   "display_name": "Python 2",
   "language": "python",
   "name": "python2"
  },
  "language_info": {
   "codemirror_mode": {
    "name": "ipython",
    "version": 2
   },
   "file_extension": ".py",
   "mimetype": "text/x-python",
   "name": "python",
   "nbconvert_exporter": "python",
   "pygments_lexer": "ipython2",
   "version": "2.7.12"
  }
 },
 "nbformat": 4,
 "nbformat_minor": 0
}
